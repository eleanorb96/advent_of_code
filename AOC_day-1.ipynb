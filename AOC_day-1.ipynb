{
 "cells": [
  {
   "cell_type": "markdown",
   "metadata": {},
   "source": [
    "## --- Day 1: Sonar Sweep --- [link](https://adventofcode.com/2021/day/1)\n",
    "You're minding your own business on a ship at sea when the overboard alarm goes off! You rush to see if you can help. Apparently, one of the Elves tripped and accidentally sent the sleigh keys flying into the ocean! Before you know it, you're inside a submarine the Elves keep ready for situations like this. It's covered in Christmas lights (because of course it is), and it even has an experimental antenna that should be able to track the keys if you can boost its signal strength high enough; there's a little meter that indicates the antenna's signal strength by displaying 0-50 stars.\n",
    "\n",
    "Your instincts tell you that in order to save Christmas, you'll need to get all fifty stars by December 25th.\n"
   ]
  },
  {
   "cell_type": "code",
   "execution_count": 57,
   "metadata": {},
   "outputs": [],
   "source": [
    "# from aocd import data\n",
    "import pandas as pd\n",
    "import numpy as np\n",
    "\n",
    "from collections import deque\n",
    "from itertools import islice"
   ]
  },
  {
   "cell_type": "markdown",
   "metadata": {},
   "source": [
    "Collect stars by solving puzzles. Two puzzles will be made available on each day in the Advent calendar; the second puzzle is unlocked when you complete the first. Each puzzle grants one star. Good luck!\n",
    "\n",
    "As the submarine drops below the surface of the ocean, it automatically performs a sonar sweep of the nearby sea floor. On a small screen, the sonar sweep report (your puzzle input) appears: each line is a measurement of the sea floor depth as the sweep looks further and further away from the submarine.\n",
    "\n",
    "This report indicates that, scanning outward from the submarine, the sonar sweep found depths of 199, 200, 208, 210, and so on.\n",
    "\n",
    "The first order of business is to figure out how quickly the depth increases, just so you know what you're dealing with - you never know if the keys will get carried into deeper water by an ocean current or a fish or something.\n",
    "\n",
    "To do this, count the number of times a depth measurement increases from the previous measurement. \n",
    "(There is no measurement before the first measurement.)"
   ]
  },
  {
   "cell_type": "markdown",
   "metadata": {},
   "source": [
    "##### Example Data"
   ]
  },
  {
   "cell_type": "code",
   "execution_count": 12,
   "metadata": {},
   "outputs": [],
   "source": [
    "ex_readings = [199, 200, 208, 210, 200, 207, 240, 269, 260, 263]\n",
    "ex_changes = ['N/A', 'increased', 'increased', 'increased', 'decreased', 'increased', 'increased', 'increased', 'decreased', 'increased']"
   ]
  },
  {
   "cell_type": "code",
   "execution_count": 13,
   "metadata": {},
   "outputs": [
    {
     "data": {
      "text/html": [
       "<div>\n",
       "<style scoped>\n",
       "    .dataframe tbody tr th:only-of-type {\n",
       "        vertical-align: middle;\n",
       "    }\n",
       "\n",
       "    .dataframe tbody tr th {\n",
       "        vertical-align: top;\n",
       "    }\n",
       "\n",
       "    .dataframe thead th {\n",
       "        text-align: right;\n",
       "    }\n",
       "</style>\n",
       "<table border=\"1\" class=\"dataframe\">\n",
       "  <thead>\n",
       "    <tr style=\"text-align: right;\">\n",
       "      <th></th>\n",
       "      <th>0</th>\n",
       "      <th>1</th>\n",
       "    </tr>\n",
       "  </thead>\n",
       "  <tbody>\n",
       "    <tr>\n",
       "      <th>0</th>\n",
       "      <td>199</td>\n",
       "      <td>N/A</td>\n",
       "    </tr>\n",
       "    <tr>\n",
       "      <th>1</th>\n",
       "      <td>200</td>\n",
       "      <td>increased</td>\n",
       "    </tr>\n",
       "    <tr>\n",
       "      <th>2</th>\n",
       "      <td>208</td>\n",
       "      <td>increased</td>\n",
       "    </tr>\n",
       "    <tr>\n",
       "      <th>3</th>\n",
       "      <td>210</td>\n",
       "      <td>increased</td>\n",
       "    </tr>\n",
       "    <tr>\n",
       "      <th>4</th>\n",
       "      <td>200</td>\n",
       "      <td>decreased</td>\n",
       "    </tr>\n",
       "  </tbody>\n",
       "</table>\n",
       "</div>"
      ],
      "text/plain": [
       "     0          1\n",
       "0  199        N/A\n",
       "1  200  increased\n",
       "2  208  increased\n",
       "3  210  increased\n",
       "4  200  decreased"
      ]
     },
     "execution_count": 13,
     "metadata": {},
     "output_type": "execute_result"
    }
   ],
   "source": [
    "df = pd.DataFrame(list(zip(ex_readings, ex_changes)))\n",
    "df.head()"
   ]
  },
  {
   "cell_type": "markdown",
   "metadata": {},
   "source": [
    "In this example, there are 7 measurements that are larger than the previous measurement."
   ]
  },
  {
   "cell_type": "markdown",
   "metadata": {},
   "source": [
    "#### Create a function to determine how many values in a given list are increases from the previous, given the set of input values in AOC_day-1"
   ]
  },
  {
   "cell_type": "markdown",
   "metadata": {},
   "source": [
    "import aocd\n",
    "\n",
    "AOC_SESSION = '53616c7465645f5f0881ba1f471b8083b3b17aca82d257fd2f897a2eaf4d3c83719a1e6a28a7a51cf5730604c6030911'\n",
    "\n",
    "scans = [int(depth) for depth in aocd.get_data(day=1, year=2021).splitlines()]\n",
    "\n",
    "Users/eleanorbrock/.config/aocd/\n",
    "\n",
    "% PATH=/bin:/sbin:/user/bin:/user/sbin:/system/Library/ export PATH\n",
    "\n",
    "export AOC_SESSION = \"53616c7465645f5f0881ba1f471b8083b3b17aca82d257fd2f897a2eaf4d3c83719a1e6a28a7a51cf5730604c6030911\"\n",
    "\n",
    "_ga=GA1.2.1273443964.1638498468\n",
    "\n",
    "_gid=GA1.2.1999284874.1638718170\n",
    "\n",
    "\"AOC_SESSION=53616c7465645f5f0881ba1f471b8083b3b17aca82d257fd2f897a2eaf4d3c83719a1e6a28a7a51cf5730604c6030911\"\n",
    "\n",
    "_gat=1\n"
   ]
  },
  {
   "cell_type": "code",
   "execution_count": 93,
   "metadata": {},
   "outputs": [],
   "source": [
    "data = pd.read_csv('aoc_day-1.txt')\n",
    "# data"
   ]
  },
  {
   "cell_type": "code",
   "execution_count": 34,
   "metadata": {},
   "outputs": [],
   "source": [
    "reads= list(data['readings'])"
   ]
  },
  {
   "cell_type": "code",
   "execution_count": 96,
   "metadata": {},
   "outputs": [
    {
     "name": "stdout",
     "output_type": "stream",
     "text": [
      "1754\n"
     ]
    }
   ],
   "source": [
    "# inputFile = open('AOC_day-1.txt', 'r')\n",
    "# l = list(map(int, inputFile.read().splitlines()))\n",
    "res_1 = 0\n",
    "for i in range(1, len(reads)):\n",
    "\tif reads[i] > reads[i-1]:\n",
    "\t\tres_1 += 1\n",
    "print(res_1)\n",
    "# inputFile.close()\n"
   ]
  },
  {
   "cell_type": "code",
   "execution_count": 97,
   "metadata": {},
   "outputs": [
    {
     "name": "stdout",
     "output_type": "stream",
     "text": [
      "1789\n"
     ]
    }
   ],
   "source": [
    "res_2 = 0\n",
    "s = sum(reads[:3])\n",
    "for i in range(3, len(reads)):\n",
    "\tn = s + reads[i] - reads[i - 3]\n",
    "\tif n > s:\n",
    "\t\tres_2 += 1\n",
    "print(res_2)"
   ]
  },
  {
   "cell_type": "code",
   "execution_count": null,
   "metadata": {},
   "outputs": [],
   "source": []
  }
 ],
 "metadata": {
  "interpreter": {
   "hash": "3d597f4c481aa0f25dceb95d2a0067e73c0966dcbd003d741d821a7208527ecf"
  },
  "kernelspec": {
   "display_name": "Python 3.9.7 64-bit ('base': conda)",
   "language": "python",
   "name": "python3"
  },
  "language_info": {
   "codemirror_mode": {
    "name": "ipython",
    "version": 3
   },
   "file_extension": ".py",
   "mimetype": "text/x-python",
   "name": "python",
   "nbconvert_exporter": "python",
   "pygments_lexer": "ipython3",
   "version": "3.9.7"
  },
  "orig_nbformat": 4
 },
 "nbformat": 4,
 "nbformat_minor": 2
}
