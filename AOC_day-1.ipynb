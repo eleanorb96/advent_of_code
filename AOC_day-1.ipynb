{
 "cells": [
  {
   "cell_type": "markdown",
   "metadata": {},
   "source": [
    "## --- Day 1: Sonar Sweep --- [link](https://adventofcode.com/2021/day/1)\n",
    "You're minding your own business on a ship at sea when the overboard alarm goes off! You rush to see if you can help. Apparently, one of the Elves tripped and accidentally sent the sleigh keys flying into the ocean! Before you know it, you're inside a submarine the Elves keep ready for situations like this. It's covered in Christmas lights (because of course it is), and it even has an experimental antenna that should be able to track the keys if you can boost its signal strength high enough; there's a little meter that indicates the antenna's signal strength by displaying 0-50 stars.\n",
    "\n",
    "Your instincts tell you that in order to save Christmas, you'll need to get all fifty stars by December 25th.\n"
   ]
  },
  {
   "cell_type": "code",
   "execution_count": 57,
   "metadata": {},
   "outputs": [],
   "source": [
    "# from aocd import data\n",
    "import pandas as pd\n",
    "import numpy as np\n",
    "\n",
    "from collections import deque\n",
    "from itertools import islice"
   ]
  },
  {
   "cell_type": "markdown",
   "metadata": {},
   "source": [
    "Collect stars by solving puzzles. Two puzzles will be made available on each day in the Advent calendar; the second puzzle is unlocked when you complete the first. Each puzzle grants one star. Good luck!\n",
    "\n",
    "As the submarine drops below the surface of the ocean, it automatically performs a sonar sweep of the nearby sea floor. On a small screen, the sonar sweep report (your puzzle input) appears: each line is a measurement of the sea floor depth as the sweep looks further and further away from the submarine.\n",
    "\n",
    "This report indicates that, scanning outward from the submarine, the sonar sweep found depths of 199, 200, 208, 210, and so on.\n",
    "\n",
    "The first order of business is to figure out how quickly the depth increases, just so you know what you're dealing with - you never know if the keys will get carried into deeper water by an ocean current or a fish or something.\n",
    "\n",
    "To do this, count the number of times a depth measurement increases from the previous measurement. \n",
    "(There is no measurement before the first measurement.)"
   ]
  },
  {
   "cell_type": "markdown",
   "metadata": {},
   "source": [
    "#### Create a function to determine how many values in a given list are increases from the previous, given the set of input values in AOC_day-1"
   ]
  },
  {
   "cell_type": "code",
   "execution_count": 3,
   "metadata": {},
   "outputs": [],
   "source": [
    "import aocd\n",
    "readings = [int(depth) for depth in aocd.get_data(day=1, year=2021).splitlines()]"
   ]
  },
  {
   "cell_type": "markdown",
   "metadata": {},
   "source": []
  },
  {
   "cell_type": "code",
   "execution_count": 93,
   "metadata": {},
   "outputs": [],
   "source": [
    "data = pd.read_csv('aoc_day-1.txt')\n",
    "# data\n",
    "\n",
    "reads= list(data['readings'])"
   ]
  },
  {
   "cell_type": "code",
   "execution_count": 96,
   "metadata": {},
   "outputs": [
    {
     "name": "stdout",
     "output_type": "stream",
     "text": [
      "1754\n"
     ]
    }
   ],
   "source": [
    "# inputFile = open('AOC_day-1.txt', 'r')\n",
    "# l = list(map(int, inputFile.read().splitlines()))\n",
    "res_1 = 0\n",
    "for i in range(1, len(reads)):\n",
    "\tif reads[i] > reads[i-1]:\n",
    "\t\tres_1 += 1\n",
    "print(res_1)\n",
    "# inputFile.close()\n"
   ]
  },
  {
   "cell_type": "code",
   "execution_count": 97,
   "metadata": {},
   "outputs": [
    {
     "name": "stdout",
     "output_type": "stream",
     "text": [
      "1789\n"
     ]
    }
   ],
   "source": [
    "res_2 = 0\n",
    "s = sum(reads[:3])\n",
    "for i in range(3, len(reads)):\n",
    "\tn = s + reads[i] - reads[i - 3]\n",
    "\tif n > s:\n",
    "\t\tres_2 += 1\n",
    "print(res_2)"
   ]
  },
  {
   "cell_type": "code",
   "execution_count": null,
   "metadata": {},
   "outputs": [],
   "source": []
  }
 ],
 "metadata": {
  "interpreter": {
   "hash": "3d597f4c481aa0f25dceb95d2a0067e73c0966dcbd003d741d821a7208527ecf"
  },
  "kernelspec": {
   "display_name": "Python 3.9.7 64-bit ('base': conda)",
   "language": "python",
   "name": "python3"
  },
  "language_info": {
   "codemirror_mode": {
    "name": "ipython",
    "version": 3
   },
   "file_extension": ".py",
   "mimetype": "text/x-python",
   "name": "python",
   "nbconvert_exporter": "python",
   "pygments_lexer": "ipython3",
   "version": "3.9.7"
  },
  "orig_nbformat": 4
 },
 "nbformat": 4,
 "nbformat_minor": 2
}
