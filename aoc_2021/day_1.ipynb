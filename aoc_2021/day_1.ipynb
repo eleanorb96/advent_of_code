{
 "cells": [
  {
   "cell_type": "code",
   "execution_count": 5,
   "metadata": {},
   "outputs": [],
   "source": [
    "# from aocd import data\n",
    "import pandas as pd\n",
    "import numpy as np\n",
    "import aocd\n",
    "from collections import deque\n",
    "from itertools import islice"
   ]
  },
  {
   "cell_type": "code",
   "execution_count": 7,
   "metadata": {},
   "outputs": [],
   "source": [
    "readings = [int(depth) for depth in aocd.get_data(day=1, year=2021).splitlines()]"
   ]
  },
  {
   "cell_type": "code",
   "execution_count": 8,
   "metadata": {},
   "outputs": [],
   "source": [
    "def sliding_window(iterable, n):\n",
    "    # sliding_window('ABCDEFG', 4) -> ABCD BCDE CDEF DEFG\n",
    "    it = iter(iterable)\n",
    "    window = deque(islice(it, n), maxlen=n)\n",
    "    if len(window) == n:\n",
    "        yield tuple(window)\n",
    "    for x in it:\n",
    "        window.append(x)\n",
    "        yield tuple(window)"
   ]
  },
  {
   "cell_type": "code",
   "execution_count": 9,
   "metadata": {},
   "outputs": [],
   "source": [
    "def count_increases(readings):\n",
    "    return sum(b > a for a, b in sliding_window(readings, 2))"
   ]
  },
  {
   "cell_type": "markdown",
   "metadata": {},
   "source": [
    "### Part 1"
   ]
  },
  {
   "cell_type": "code",
   "execution_count": 10,
   "metadata": {},
   "outputs": [
    {
     "name": "stdout",
     "output_type": "stream",
     "text": [
      "Part 1: 1754\n"
     ]
    }
   ],
   "source": [
    "part_1 = count_increases(readings)\n",
    "print(\"Part 1:\", part_1)"
   ]
  },
  {
   "cell_type": "markdown",
   "metadata": {},
   "source": [
    "### Part 2 - increase sliding window size"
   ]
  },
  {
   "cell_type": "code",
   "execution_count": 11,
   "metadata": {},
   "outputs": [],
   "source": [
    "def count_3windowsum_increases(readings):\n",
    "    three_window_sum = (sum(window) for window in sliding_window(readings, 3))\n",
    "    return count_increases(three_window_sum)"
   ]
  },
  {
   "cell_type": "code",
   "execution_count": 12,
   "metadata": {},
   "outputs": [
    {
     "name": "stdout",
     "output_type": "stream",
     "text": [
      "Part 2:  1789\n"
     ]
    }
   ],
   "source": [
    "part_2 = count_3windowsum_increases(readings)\n",
    "print(\"Part 2: \", part_2)"
   ]
  }
 ],
 "metadata": {
  "interpreter": {
   "hash": "3d597f4c481aa0f25dceb95d2a0067e73c0966dcbd003d741d821a7208527ecf"
  },
  "kernelspec": {
   "display_name": "Python 3.9.7 64-bit ('base': conda)",
   "language": "python",
   "name": "python3"
  },
  "language_info": {
   "codemirror_mode": {
    "name": "ipython",
    "version": 3
   },
   "file_extension": ".py",
   "mimetype": "text/x-python",
   "name": "python",
   "nbconvert_exporter": "python",
   "pygments_lexer": "ipython3",
   "version": "3.9.7"
  },
  "orig_nbformat": 4
 },
 "nbformat": 4,
 "nbformat_minor": 2
}
