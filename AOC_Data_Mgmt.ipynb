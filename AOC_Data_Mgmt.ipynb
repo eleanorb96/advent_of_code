{
 "cells": [
  {
   "cell_type": "markdown",
   "metadata": {},
   "source": [
    "#### conda env management\n",
    "- `conda env list` <!-- lists environments -->\n",
    "- `conda env config vars list` <!-- lists env variables -->\n",
    "- `conda env config vars set my_var=value` <!-- sets new environment variable -->\n",
    "- `conda env config vars unset my_var` <!-- un-sets environment variable -->\n",
    "- `conda activate base` <!-- reactivates base environment -->"
   ]
  },
  {
   "cell_type": "markdown",
   "metadata": {},
   "source": [
    "#### aocd python package\n",
    "  - [pypi page](https://pypi.org/project/advent-of-code-data/)\n",
    "  - `pip install advent-of-code-data`\n",
    "  - [github repo](https://github.com/wimglenn/advent-of-code-data)"
   ]
  },
  {
   "cell_type": "markdown",
   "metadata": {},
   "source": [
    "[Setting the AOC_SESSION env var](https://github.com/wimglenn/advent-of-code-wim/issues/1)"
   ]
  },
  {
   "cell_type": "markdown",
   "metadata": {},
   "source": [
    "``` python\n",
    "import aocd\n",
    "aocd.get_data(day=D, year=YYYY).splitlines()\n",
    "```"
   ]
  }
 ],
 "metadata": {
  "language_info": {
   "name": "python"
  },
  "orig_nbformat": 4
 },
 "nbformat": 4,
 "nbformat_minor": 2
}
